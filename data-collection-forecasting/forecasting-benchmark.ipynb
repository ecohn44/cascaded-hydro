{
 "cells": [
  {
   "cell_type": "code",
   "execution_count": 1,
   "id": "a07da291-423f-4ab5-84d7-a60ab5fd5ea7",
   "metadata": {},
   "outputs": [],
   "source": [
    "%load_ext autoreload\n",
    "%autoreload 2"
   ]
  },
  {
   "cell_type": "code",
   "execution_count": 3,
   "id": "efa2c5ab-97cb-4cd5-a9a8-437a47579f86",
   "metadata": {},
   "outputs": [],
   "source": [
    "import numpy as np\n",
    "import pandas as pd\n",
    "import matplotlib.pyplot as plt\n",
    "from sklearn.linear_model import LinearRegression\n",
    "from sklearn.linear_model import Lasso, LassoCV\n",
    "import statsmodels.api as sm"
   ]
  },
  {
   "cell_type": "code",
   "execution_count": 4,
   "id": "a7575072-be65-440e-b78c-04a655bdc131",
   "metadata": {},
   "outputs": [],
   "source": [
    "import preprocessing as preproc\n",
    "# help(preproc)"
   ]
  },
  {
   "cell_type": "code",
   "execution_count": 5,
   "id": "4cde963a-faea-459b-9d7d-b3465843385f",
   "metadata": {},
   "outputs": [],
   "source": [
    "int_freq = 30"
   ]
  },
  {
   "cell_type": "markdown",
   "id": "5f3ac016-e6c5-4bad-a1f8-fadccdc8b14a",
   "metadata": {},
   "source": [
    "# Data Collection"
   ]
  },
  {
   "cell_type": "code",
   "execution_count": 10,
   "id": "a60a8460-1f9a-43e8-bfc1-964a05bc3697",
   "metadata": {},
   "outputs": [],
   "source": [
    "start_date = '2009-01-01'\n",
    "end_date = '2024-12-31'\n",
    "date_range = preproc.create_date_range(start_date, end_date)"
   ]
  },
  {
   "cell_type": "markdown",
   "id": "a649469d-7883-45b1-a551-57c8d76ef20d",
   "metadata": {},
   "source": [
    "### Downstream Data (Inflow)"
   ]
  },
  {
   "cell_type": "code",
   "execution_count": 13,
   "id": "4748151e-bdb2-4b9b-bbc2-7c3763301f99",
   "metadata": {},
   "outputs": [
    {
     "name": "stdout",
     "output_type": "stream",
     "text": [
      "COLUMBIA RIVER AT STEVENSON, WA\n",
      "Removed 24 duplicate rows\n",
      "\n",
      "Removed 0 rows with NaN in '00065'\n",
      "\n",
      "Imputed 201 rows\n"
     ]
    }
   ],
   "source": [
    "inflow_site = '14128600'\n",
    "\n",
    "## Collect Dataset #1\n",
    "df1 = preproc.preprocess(inflow_site, int_freq, start_date, end_date)"
   ]
  },
  {
   "cell_type": "markdown",
   "id": "5963665c-2b59-4d3f-8d8e-af90ce1a5487",
   "metadata": {},
   "source": [
    "### Upstream Data (Outflow)"
   ]
  },
  {
   "cell_type": "code",
   "execution_count": 15,
   "id": "24262116-990f-4708-a16c-ea67478022fc",
   "metadata": {},
   "outputs": [
    {
     "name": "stdout",
     "output_type": "stream",
     "text": [
      "COLUMBIA RIVER AT THE DALLES, OR\n",
      "Removed 32 duplicate rows\n",
      "\n",
      "Removed 437 rows with NaN in '00065'\n",
      "\n",
      "Imputed 887 rows\n"
     ]
    }
   ],
   "source": [
    "outflow_site = '14105700'\n",
    "\n",
    "## Collect Dataset #2\n",
    "df2 = preproc.preprocess(outflow_site, int_freq, start_date, end_date)"
   ]
  },
  {
   "cell_type": "markdown",
   "id": "b07be37a-4d90-4d7c-82c5-03f73b9a737b",
   "metadata": {},
   "source": [
    "### Data Export"
   ]
  },
  {
   "cell_type": "code",
   "execution_count": 78,
   "id": "f74ab4b1-87e7-4742-b15b-c8efdd74a3e3",
   "metadata": {},
   "outputs": [],
   "source": [
    "df2.rename(columns={'00065': 'up_outflow'}, inplace=True)"
   ]
  },
  {
   "cell_type": "code",
   "execution_count": 74,
   "id": "4fea8607-9d46-42ba-8f36-54c9117a305b",
   "metadata": {},
   "outputs": [],
   "source": [
    "df1.rename(columns={'00065': 'down_inflow'}, inplace=True)"
   ]
  },
  {
   "cell_type": "code",
   "execution_count": 76,
   "id": "bd8ed1a3-1b5c-4d26-be1a-19f359904cfc",
   "metadata": {},
   "outputs": [
    {
     "data": {
      "text/html": [
       "<div>\n",
       "<style scoped>\n",
       "    .dataframe tbody tr th:only-of-type {\n",
       "        vertical-align: middle;\n",
       "    }\n",
       "\n",
       "    .dataframe tbody tr th {\n",
       "        vertical-align: top;\n",
       "    }\n",
       "\n",
       "    .dataframe thead th {\n",
       "        text-align: right;\n",
       "    }\n",
       "</style>\n",
       "<table border=\"1\" class=\"dataframe\">\n",
       "  <thead>\n",
       "    <tr style=\"text-align: right;\">\n",
       "      <th></th>\n",
       "      <th>site_no</th>\n",
       "      <th>down_inflow</th>\n",
       "    </tr>\n",
       "    <tr>\n",
       "      <th>datetime</th>\n",
       "      <th></th>\n",
       "      <th></th>\n",
       "    </tr>\n",
       "  </thead>\n",
       "  <tbody>\n",
       "    <tr>\n",
       "      <th>2009-01-01 00:00:00</th>\n",
       "      <td>14128600</td>\n",
       "      <td>76.11</td>\n",
       "    </tr>\n",
       "    <tr>\n",
       "      <th>2009-01-01 00:30:00</th>\n",
       "      <td>14128600</td>\n",
       "      <td>76.19</td>\n",
       "    </tr>\n",
       "    <tr>\n",
       "      <th>2009-01-01 01:00:00</th>\n",
       "      <td>14128600</td>\n",
       "      <td>76.19</td>\n",
       "    </tr>\n",
       "    <tr>\n",
       "      <th>2009-01-01 01:30:00</th>\n",
       "      <td>14128600</td>\n",
       "      <td>76.25</td>\n",
       "    </tr>\n",
       "    <tr>\n",
       "      <th>2009-01-01 02:00:00</th>\n",
       "      <td>14128600</td>\n",
       "      <td>76.20</td>\n",
       "    </tr>\n",
       "  </tbody>\n",
       "</table>\n",
       "</div>"
      ],
      "text/plain": [
       "                      site_no  down_inflow\n",
       "datetime                                  \n",
       "2009-01-01 00:00:00  14128600        76.11\n",
       "2009-01-01 00:30:00  14128600        76.19\n",
       "2009-01-01 01:00:00  14128600        76.19\n",
       "2009-01-01 01:30:00  14128600        76.25\n",
       "2009-01-01 02:00:00  14128600        76.20"
      ]
     },
     "execution_count": 76,
     "metadata": {},
     "output_type": "execute_result"
    }
   ],
   "source": [
    "df1.head()"
   ]
  },
  {
   "cell_type": "code",
   "execution_count": 80,
   "id": "d5d1b3da-5403-48ba-9396-b0467a0fdddd",
   "metadata": {},
   "outputs": [
    {
     "data": {
      "text/html": [
       "<div>\n",
       "<style scoped>\n",
       "    .dataframe tbody tr th:only-of-type {\n",
       "        vertical-align: middle;\n",
       "    }\n",
       "\n",
       "    .dataframe tbody tr th {\n",
       "        vertical-align: top;\n",
       "    }\n",
       "\n",
       "    .dataframe thead th {\n",
       "        text-align: right;\n",
       "    }\n",
       "</style>\n",
       "<table border=\"1\" class=\"dataframe\">\n",
       "  <thead>\n",
       "    <tr style=\"text-align: right;\">\n",
       "      <th></th>\n",
       "      <th>site_no</th>\n",
       "      <th>up_outflow</th>\n",
       "    </tr>\n",
       "    <tr>\n",
       "      <th>datetime</th>\n",
       "      <th></th>\n",
       "      <th></th>\n",
       "    </tr>\n",
       "  </thead>\n",
       "  <tbody>\n",
       "    <tr>\n",
       "      <th>2009-01-01 00:00:00</th>\n",
       "      <td>14105700</td>\n",
       "      <td>76.61</td>\n",
       "    </tr>\n",
       "    <tr>\n",
       "      <th>2009-01-01 00:30:00</th>\n",
       "      <td>14105700</td>\n",
       "      <td>76.56</td>\n",
       "    </tr>\n",
       "    <tr>\n",
       "      <th>2009-01-01 01:00:00</th>\n",
       "      <td>14105700</td>\n",
       "      <td>76.47</td>\n",
       "    </tr>\n",
       "    <tr>\n",
       "      <th>2009-01-01 01:30:00</th>\n",
       "      <td>14105700</td>\n",
       "      <td>76.27</td>\n",
       "    </tr>\n",
       "    <tr>\n",
       "      <th>2009-01-01 02:00:00</th>\n",
       "      <td>14105700</td>\n",
       "      <td>76.39</td>\n",
       "    </tr>\n",
       "  </tbody>\n",
       "</table>\n",
       "</div>"
      ],
      "text/plain": [
       "                      site_no  up_outflow\n",
       "datetime                                 \n",
       "2009-01-01 00:00:00  14105700       76.61\n",
       "2009-01-01 00:30:00  14105700       76.56\n",
       "2009-01-01 01:00:00  14105700       76.47\n",
       "2009-01-01 01:30:00  14105700       76.27\n",
       "2009-01-01 02:00:00  14105700       76.39"
      ]
     },
     "execution_count": 80,
     "metadata": {},
     "output_type": "execute_result"
    }
   ],
   "source": [
    "df2.head()"
   ]
  },
  {
   "cell_type": "markdown",
   "id": "c2c33f6c-387e-45c8-931b-63f056db40da",
   "metadata": {},
   "source": [
    "# Training & Test Set"
   ]
  },
  {
   "cell_type": "code",
   "execution_count": 17,
   "id": "ca8e52c6-37ec-4a05-babd-e31200a01255",
   "metadata": {},
   "outputs": [],
   "source": [
    "train_start_year = '2008'\n",
    "test_start_year = '2024'"
   ]
  },
  {
   "cell_type": "code",
   "execution_count": 18,
   "id": "9512c7aa-f525-46f0-b6b1-ed9aaf061f81",
   "metadata": {},
   "outputs": [],
   "source": [
    "## Merge downstream and upstream data\n",
    "\n",
    "df_range = preproc.dataset_merge(df1, df2, train_start_year, \"full\")"
   ]
  },
  {
   "cell_type": "code",
   "execution_count": 19,
   "id": "10ce9a97-336b-43b8-adbd-81afd5b7e18f",
   "metadata": {},
   "outputs": [],
   "source": [
    "## Create lag features\n",
    "\n",
    "p = 7 \n",
    "up_feat = True\n",
    "down_feat = True \n",
    "\n",
    "df_reg, feature_cols = preproc.create_lag_features(df_range, p, up_feat, down_feat)"
   ]
  },
  {
   "cell_type": "code",
   "execution_count": 20,
   "id": "c4d407ea-f0c3-40c1-9bb1-baeeea3101e2",
   "metadata": {},
   "outputs": [],
   "source": [
    "## Split the data into training and testing sets\n",
    "\n",
    "train_data = df_reg[(df_reg.index < test_start_year)]\n",
    "test_data = df_reg[(df_reg.index >= test_start_year)]\n",
    "\n",
    "X_train = train_data[feature_cols]\n",
    "y_train = train_data['y_norm']\n",
    "\n",
    "X_test = test_data[feature_cols]\n",
    "y_test = test_data['y_norm']"
   ]
  },
  {
   "cell_type": "markdown",
   "id": "fd8a67e2-2826-4c1d-b2de-646645ff8fd5",
   "metadata": {},
   "source": [
    "# M0: Previous Term Forecaster"
   ]
  },
  {
   "cell_type": "code",
   "execution_count": 22,
   "id": "9d5e183d-a558-4ff0-83ab-b8885cc211c9",
   "metadata": {},
   "outputs": [],
   "source": [
    "## Simulate Model Forecasting\n",
    "# Model Output (y_hat): y[t-1]\n",
    "# Ground Truth (y): y[t]\n",
    "\n",
    "fitted_vals0 = y_train[:-1].values\n",
    "y_train0 = y_train[1:].values"
   ]
  },
  {
   "cell_type": "markdown",
   "id": "af29d15d-82ca-4f99-add1-75e427d59c90",
   "metadata": {},
   "source": [
    "## Residuals"
   ]
  },
  {
   "cell_type": "code",
   "execution_count": 51,
   "id": "ac934a11-099e-4df2-8898-69b49e0082a5",
   "metadata": {},
   "outputs": [],
   "source": [
    "## Residuals = y[t] - y[t-1]\n",
    "\n",
    "residuals0 = y_train0 - fitted_vals0"
   ]
  },
  {
   "cell_type": "code",
   "execution_count": null,
   "id": "ff681d2b-420e-41b8-9d00-b8d2de03fd51",
   "metadata": {},
   "outputs": [],
   "source": [
    "plt.hist(residuals0, bins = 100)\n",
    "plt.title('M0: Training Residuals')\n",
    "plt.xlim([-.5, .5])\n",
    "plt.show()"
   ]
  },
  {
   "cell_type": "code",
   "execution_count": null,
   "id": "7c49a8be-a4b6-4227-90e8-b413a19a49ab",
   "metadata": {},
   "outputs": [],
   "source": [
    "preproc.plot_variance(\"M0\", fitted_vals0, residuals0)"
   ]
  },
  {
   "cell_type": "markdown",
   "id": "b483ab95-b4ca-45a5-9308-31b06664ffe9",
   "metadata": {},
   "source": [
    "## Evaluation"
   ]
  },
  {
   "cell_type": "code",
   "execution_count": null,
   "id": "d46c661a-8d70-4420-9a82-c0a39e1a716d",
   "metadata": {},
   "outputs": [],
   "source": [
    "y_pred0 = y_test[:-1] # Exclude the last element\n",
    "y_test0 = y_test[1:]  # Exclude the first element"
   ]
  },
  {
   "cell_type": "code",
   "execution_count": null,
   "id": "1d90d29d-65fd-48ba-875c-87510d8230b1",
   "metadata": {},
   "outputs": [],
   "source": [
    "preproc.print_test_stats(y_test0, y_pred0)"
   ]
  },
  {
   "cell_type": "code",
   "execution_count": null,
   "id": "50f6101f-a83a-4ebb-8285-692602c8fe47",
   "metadata": {},
   "outputs": [],
   "source": [
    "preproc.plot_forecasts(\"M0\", y_test0, y_pred0)"
   ]
  },
  {
   "cell_type": "markdown",
   "id": "f2b6743b-3714-4469-864c-f418a42a567a",
   "metadata": {},
   "source": [
    "# M1: Linear Regression"
   ]
  },
  {
   "cell_type": "code",
   "execution_count": null,
   "id": "43a187b8-3b97-44a5-8410-bbf41c52484c",
   "metadata": {},
   "outputs": [],
   "source": [
    "# Step 1: Add constant (intercept)\n",
    "X_train_const = sm.add_constant(X_train)\n",
    "\n",
    "# Step 2: Fit OLS model\n",
    "model = sm.OLS(y_train, X_train_const).fit(cov_type='HC1') # Heteroskedasticity-consistent\n",
    "\n",
    "# Step 3: View summary\n",
    "print(model.summary())"
   ]
  },
  {
   "cell_type": "code",
   "execution_count": null,
   "id": "12e9d847-19f1-4307-970f-422da1632555",
   "metadata": {},
   "outputs": [],
   "source": [
    "# Extract coefficients and p-values into a tidy DataFrame\n",
    "coef_df = pd.DataFrame({\n",
    "    'feature': model.params.index,\n",
    "    'coefficient': model.params.values\n",
    "    #'p_value': model.pvalues.values,\n",
    "    #'t_value': model.tvalues.values\n",
    "})\n",
    "\n",
    "# Optional: sort by absolute coefficient size\n",
    "coef_df = coef_df.reindex(coef_df['coefficient'].abs().sort_values(ascending=False).index)\n",
    "\n",
    "print(coef_df)"
   ]
  },
  {
   "cell_type": "markdown",
   "id": "5f44c91d-8241-4c12-b869-7c023524cff7",
   "metadata": {},
   "source": [
    "## Residuals"
   ]
  },
  {
   "cell_type": "code",
   "execution_count": null,
   "id": "9d5c4354-8ae8-4500-9512-aba8e56977d5",
   "metadata": {},
   "outputs": [],
   "source": [
    "residuals1 = model.resid\n",
    "fitted_vals1 = model.fittedvalues"
   ]
  },
  {
   "cell_type": "code",
   "execution_count": null,
   "id": "c716addc-7dca-47df-9547-929b9d123c13",
   "metadata": {},
   "outputs": [],
   "source": [
    "# Checking for Heteroskedasticity\n",
    "\n",
    "preproc.plot_variance(\"M1\", fitted_vals1, residuals1)"
   ]
  },
  {
   "cell_type": "markdown",
   "id": "f9a0926e-c77c-4f74-802f-61411b84adf5",
   "metadata": {},
   "source": [
    "## Evaluation"
   ]
  },
  {
   "cell_type": "code",
   "execution_count": null,
   "id": "aa979b66-cbb4-436d-b841-6b77deba37d5",
   "metadata": {},
   "outputs": [],
   "source": [
    "X_test_const = sm.add_constant(X_test)  # Add intercept term\n",
    "X_test_const['const'] = np.ones(len(X_test))\n",
    "X_test_const = pd.DataFrame(X_test_const, columns=model.model.exog_names)\n",
    "y_pred1 = model.predict(X_test_const)"
   ]
  },
  {
   "cell_type": "code",
   "execution_count": null,
   "id": "28dc5f46-dc88-446f-a874-fb0062e4f6a2",
   "metadata": {},
   "outputs": [],
   "source": [
    "preproc.plot_forecasts(\"M1\", y_test, y_pred1)"
   ]
  },
  {
   "cell_type": "code",
   "execution_count": null,
   "id": "da17b2fb-54e7-4bc7-b50d-b5b85d01c0c2",
   "metadata": {},
   "outputs": [],
   "source": [
    "preproc.print_test_stats(y_test, y_pred1)"
   ]
  },
  {
   "cell_type": "markdown",
   "id": "58d37195-5408-423f-bc13-e7917e09154b",
   "metadata": {},
   "source": [
    "# M2: LASSO"
   ]
  },
  {
   "cell_type": "code",
   "execution_count": null,
   "id": "63ba2bdc-553a-44dc-a21e-b43d87382c4a",
   "metadata": {},
   "outputs": [],
   "source": [
    "spline_feat = False\n",
    "\n",
    "if spline_feat:\n",
    "    lasso_train = X_train_M3_full.copy()\n",
    "    lasso_test = X_test_M3_full.copy()\n",
    "else:\n",
    "    lasso_train = X_train.copy() \n",
    "    lasso_test = X_test.copy()"
   ]
  },
  {
   "cell_type": "code",
   "execution_count": null,
   "id": "abb14d06-0d69-4216-9346-a8ab776a71be",
   "metadata": {},
   "outputs": [],
   "source": [
    "## Cross-Validation for Hyperparamter Finetuning\n",
    "\n",
    "lasso_cv = LassoCV(cv=5, positive=True).fit(lasso_train, y_train)\n",
    "alpha_star = lasso_cv.alpha_\n",
    "print(\"Best alpha:\", alpha_star)"
   ]
  },
  {
   "cell_type": "code",
   "execution_count": null,
   "id": "bb719683-f2f7-4781-93d2-9a353bbbd6b0",
   "metadata": {},
   "outputs": [],
   "source": [
    "## Create and fit LASSO model\n",
    "\n",
    "#lasso = Lasso(alpha=0, positive=True)  # alpha is the regularization strength (higher = more shrinkage)\n",
    "lasso = Lasso(alpha=alpha_star, positive=True)\n",
    "lasso.fit(lasso_train, y_train)"
   ]
  },
  {
   "cell_type": "code",
   "execution_count": null,
   "id": "cbe02df5-307e-4219-95e1-cc2fec00e3ca",
   "metadata": {},
   "outputs": [],
   "source": [
    "## Make predictions\n",
    "\n",
    "y_pred2 = pd.Series(lasso.predict(lasso_test))"
   ]
  },
  {
   "cell_type": "code",
   "execution_count": null,
   "id": "73c265da-6d17-4baf-87f9-162bd1e02718",
   "metadata": {},
   "outputs": [],
   "source": [
    "## View coefficients\n",
    "\n",
    "coef_df = pd.DataFrame({\n",
    "    'feature': X_train.columns,\n",
    "    'coefficient': lasso.coef_\n",
    "})\n",
    "\n",
    "# Optional: Sort by magnitude or filter out zeros\n",
    "coef_df = coef_df[coef_df['coefficient'] != 0]  # remove zeroed-out features\n",
    "coef_df = coef_df.sort_values(by='coefficient', key=abs, ascending=False)\n",
    "\n",
    "print(coef_df)"
   ]
  },
  {
   "cell_type": "markdown",
   "id": "ef88c886-0b37-4274-9b13-9229e8d8db2a",
   "metadata": {},
   "source": [
    "## Residuals"
   ]
  },
  {
   "cell_type": "code",
   "execution_count": null,
   "id": "4be72915-9c5b-4d98-8c16-be7df849ccd4",
   "metadata": {},
   "outputs": [],
   "source": [
    "fitted_vals2 = lasso.predict(lasso_train)"
   ]
  },
  {
   "cell_type": "code",
   "execution_count": null,
   "id": "0cdefc58-4979-444d-a717-43070932b7b2",
   "metadata": {},
   "outputs": [],
   "source": [
    "residuals2 = y_train - fitted_vals2"
   ]
  },
  {
   "cell_type": "code",
   "execution_count": null,
   "id": "b2d2fe63-b5ad-450f-9ede-8f2815d662a0",
   "metadata": {},
   "outputs": [],
   "source": [
    "plt.hist(residuals2, bins = 100)\n",
    "plt.title('M2: Training Residuals')\n",
    "plt.xlim([-.5, .5])\n",
    "plt.show()"
   ]
  },
  {
   "cell_type": "code",
   "execution_count": null,
   "id": "488cdfe6-0ad2-4475-b850-d685e8f14481",
   "metadata": {},
   "outputs": [],
   "source": [
    "# Checking for Heteroskedasticity\n",
    "\n",
    "preproc.plot_variance(\"M2\", fitted_vals2, residuals2)"
   ]
  },
  {
   "cell_type": "markdown",
   "id": "6ed118ea-375e-4281-afcc-feda2a053435",
   "metadata": {},
   "source": [
    "## Evaluation"
   ]
  },
  {
   "cell_type": "code",
   "execution_count": null,
   "id": "97588c9b-9b73-4aa1-8e50-a64a51e844bc",
   "metadata": {},
   "outputs": [],
   "source": [
    "preproc.plot_forecasts(\"M2\", y_test, y_pred2)"
   ]
  },
  {
   "cell_type": "code",
   "execution_count": null,
   "id": "e25a3d92-a84a-491f-8df8-f9748a5dbd4e",
   "metadata": {},
   "outputs": [],
   "source": [
    "preproc.print_test_stats(y_test, y_pred2)"
   ]
  },
  {
   "cell_type": "markdown",
   "id": "ef1c4543-0063-4ddf-afa2-698f4879322b",
   "metadata": {},
   "source": [
    "# M3: Spline"
   ]
  },
  {
   "cell_type": "code",
   "execution_count": null,
   "id": "cd2f4dbd-fb2b-4c08-87ed-c936fecc5e85",
   "metadata": {},
   "outputs": [],
   "source": [
    "from patsy import dmatrix"
   ]
  },
  {
   "cell_type": "code",
   "execution_count": null,
   "id": "8d3cb937-5344-4064-a229-6407867f8d55",
   "metadata": {},
   "outputs": [],
   "source": [
    "## Create numerical & continuous time variable\n",
    "\n",
    "X_train_M3 = X_train_const.copy()\n",
    "X_train_M3[\"t\"] = (X_train_M3.index - X_train_M3.index[0]).total_seconds() / (3600 * 24)"
   ]
  },
  {
   "cell_type": "code",
   "execution_count": null,
   "id": "d793cc09-1e7c-4a8f-983f-ad1e254feeb3",
   "metadata": {},
   "outputs": [],
   "source": [
    "## Generate spline\n",
    "\n",
    "# Natural cubic spline with 4 degrees of freedom (adjust as needed)\n",
    "spline = dmatrix(\"bs(t, df=4, include_intercept=False)\", data=X_train_M3, return_type='dataframe')"
   ]
  },
  {
   "cell_type": "code",
   "execution_count": null,
   "id": "28f5f5a0-4c20-4cb7-8e2d-014c81721f36",
   "metadata": {},
   "outputs": [],
   "source": [
    "## Combine spline basis with lag features\n",
    "\n",
    "X_train_M3_full = pd.concat([X_train_M3.drop(columns=\"t\"), spline], axis=1)"
   ]
  },
  {
   "cell_type": "code",
   "execution_count": null,
   "id": "5657153f-7384-4822-8c4f-67f5ba241ffd",
   "metadata": {},
   "outputs": [],
   "source": [
    "## Fit the model \n",
    "\n",
    "model3 = sm.OLS(y_train, X_train_M3_full).fit()\n",
    "print(model3.summary())"
   ]
  },
  {
   "cell_type": "markdown",
   "id": "9cd18a3d-b67d-41a2-a92b-4f4684d368f1",
   "metadata": {},
   "source": [
    "## Residuals"
   ]
  },
  {
   "cell_type": "code",
   "execution_count": null,
   "id": "767e68a9-f618-4a39-907d-9a115fb6dedd",
   "metadata": {},
   "outputs": [],
   "source": [
    "residuals3 = model3.resid\n",
    "fitted_vals3 = model3.fittedvalues"
   ]
  },
  {
   "cell_type": "code",
   "execution_count": null,
   "id": "0040aad3-a85b-4df7-8ae1-03fde433cda1",
   "metadata": {},
   "outputs": [],
   "source": [
    "preproc.plot_variance(\"M3\", fitted_vals3, residuals3)"
   ]
  },
  {
   "cell_type": "markdown",
   "id": "6abce5c1-12e5-4950-9188-1247acb2c5b2",
   "metadata": {},
   "source": [
    "## Evaluation"
   ]
  },
  {
   "cell_type": "code",
   "execution_count": null,
   "id": "66ecd1be-8276-4338-a9f0-d0a921624791",
   "metadata": {},
   "outputs": [],
   "source": [
    "## Prepare test dataset\n",
    "\n",
    "X_test_M3 = X_test_const.copy()\n",
    "X_test_M3[\"t\"] = (X_test.index - X_train.index[0]).total_seconds() / (3600 * 24)\n",
    "\n",
    "spline_test = dmatrix(\"bs(t, df=4, include_intercept=False)\", data=X_test_M3, return_type='dataframe')\n",
    "X_test_M3_full = pd.concat([X_test_M3.drop(columns=\"t\"), spline_test], axis=1)"
   ]
  },
  {
   "cell_type": "code",
   "execution_count": null,
   "id": "f0e03ec6-b542-4324-8b26-7e6d6f71a4e1",
   "metadata": {},
   "outputs": [],
   "source": [
    "y_pred3 = model3.predict(X_test_M3_full)"
   ]
  },
  {
   "cell_type": "code",
   "execution_count": null,
   "id": "2ebb33e8-17f1-4e5f-b709-dcca504f819a",
   "metadata": {},
   "outputs": [],
   "source": [
    "preproc.plot_forecasts(\"M3\", y_test, y_pred3)"
   ]
  },
  {
   "cell_type": "code",
   "execution_count": null,
   "id": "afaf24d0-470e-4b6e-b8d8-abe2ae9ad74f",
   "metadata": {},
   "outputs": [],
   "source": [
    "preproc.print_test_stats(y_test, y_pred3)"
   ]
  },
  {
   "cell_type": "markdown",
   "id": "b9d745d0-edda-4456-bdd7-53336181f58d",
   "metadata": {},
   "source": [
    "# M4: Prophet"
   ]
  },
  {
   "cell_type": "raw",
   "id": "e75f33de-ee38-4498-81f7-e6e49d1412ae",
   "metadata": {},
   "source": [
    "Documentation: \n",
    "\n",
    "https://facebook.github.io/prophet/docs/quick_start.html#python-api\n",
    "https://github.com/facebook/prophet/blob/main/notebooks/quick_start.ipynb"
   ]
  },
  {
   "cell_type": "code",
   "execution_count": null,
   "id": "73a6429a-cc48-475c-9e5d-c380fa780277",
   "metadata": {},
   "outputs": [],
   "source": [
    "prophet_df = y_train.to_frame(name='y')\n",
    "prophet_df = prophet_df.reset_index()  \n",
    "prophet_df.columns = ['ds', 'y']    "
   ]
  },
  {
   "cell_type": "code",
   "execution_count": null,
   "id": "518e21af-a44b-4493-9abf-1c7ceb2a8be2",
   "metadata": {},
   "outputs": [],
   "source": [
    "from prophet import Prophet\n",
    "\n",
    "m = Prophet()\n",
    "m.fit(prophet_df)"
   ]
  },
  {
   "cell_type": "code",
   "execution_count": null,
   "id": "8398a504-469f-4ed1-83b7-5cbd9f862598",
   "metadata": {},
   "outputs": [],
   "source": [
    "future = y_test.index.to_frame(name='ds')\n",
    "future = future.reset_index()  \n",
    "future = future.drop('datetime', axis = 1)"
   ]
  },
  {
   "cell_type": "code",
   "execution_count": null,
   "id": "2d669efb-8b63-4212-92aa-3fde8c85fec9",
   "metadata": {},
   "outputs": [],
   "source": [
    "full_future = pd.concat([prophet_df['ds'], future])"
   ]
  },
  {
   "cell_type": "code",
   "execution_count": null,
   "id": "e8eaf91c-e3d5-4c1d-ad89-8674f83e64b0",
   "metadata": {},
   "outputs": [],
   "source": [
    "forecast = m.predict(full_future)\n",
    "\n",
    "# forecast.columns"
   ]
  },
  {
   "cell_type": "code",
   "execution_count": null,
   "id": "7c0f5ce3-abd9-4f9f-a0f3-b515061fc349",
   "metadata": {},
   "outputs": [],
   "source": [
    "forecast[['ds', 'yhat', 'yhat_lower', 'yhat_upper']].tail()"
   ]
  },
  {
   "cell_type": "markdown",
   "id": "e3dd6a28-fbad-4026-990d-527f29443434",
   "metadata": {},
   "source": [
    "## Residuals"
   ]
  },
  {
   "cell_type": "code",
   "execution_count": null,
   "id": "434763a2-02ed-4eb7-9a84-90f756ce2954",
   "metadata": {},
   "outputs": [],
   "source": [
    "# Merge actuals and predictions\n",
    "prophet_merged = prophet_df[['ds', 'y']].merge(forecast[['ds', 'yhat']], on='ds')\n",
    "prophet_merged['residual'] = prophet_merged['y'] - prophet_merged['yhat']"
   ]
  },
  {
   "cell_type": "code",
   "execution_count": null,
   "id": "25582ecc-b8c8-4fe8-8316-22bb2d120a9a",
   "metadata": {},
   "outputs": [],
   "source": [
    "prophet_merged.head()"
   ]
  },
  {
   "cell_type": "code",
   "execution_count": null,
   "id": "97917e9f-4cd0-402a-9dfe-b56360031cb9",
   "metadata": {},
   "outputs": [],
   "source": [
    "prophet_merged_train = prophet_merged.iloc[:len(y_train)]"
   ]
  },
  {
   "cell_type": "code",
   "execution_count": null,
   "id": "bae156f3-127a-4f54-a17d-e3c06dc8a42e",
   "metadata": {},
   "outputs": [],
   "source": [
    "plt.hist(prophet_merged_train.residual, bins = 40)\n",
    "plt.title('Training Residuals')\n",
    "plt.show()"
   ]
  },
  {
   "cell_type": "code",
   "execution_count": null,
   "id": "69962a31-4de6-4937-8b5c-fc461eb3aa8e",
   "metadata": {},
   "outputs": [],
   "source": [
    "# Checking for Heteroskedasticity\n",
    "\n",
    "preproc.plot_variance(\"M4\", prophet_merged_train.yhat, prophet_merged_train.residual, bounds=False)"
   ]
  },
  {
   "cell_type": "markdown",
   "id": "c59bbd30-17da-4f9e-a87f-82a2bf620df2",
   "metadata": {},
   "source": [
    "## Evaluation"
   ]
  },
  {
   "cell_type": "code",
   "execution_count": null,
   "id": "874bccc0-e90d-48ea-8974-2124392d41fc",
   "metadata": {},
   "outputs": [],
   "source": [
    "fig1 = m.plot(forecast)"
   ]
  },
  {
   "cell_type": "code",
   "execution_count": null,
   "id": "f65d6efa-b176-4b40-b7b6-9afde69263a3",
   "metadata": {},
   "outputs": [],
   "source": [
    "fig2 = m.plot_components(forecast)\n"
   ]
  },
  {
   "cell_type": "code",
   "execution_count": null,
   "id": "74c62712-9197-46e8-aecf-9222ef27d1d3",
   "metadata": {},
   "outputs": [],
   "source": [
    "y_pred4 = forecast.yhat[-len(y_test):]"
   ]
  },
  {
   "cell_type": "code",
   "execution_count": null,
   "id": "9e67eaf2-0a9c-4462-b51d-87ba144cc6e7",
   "metadata": {},
   "outputs": [],
   "source": [
    "preproc.plot_forecasts(\"M4\", y_test, y_pred4)"
   ]
  },
  {
   "cell_type": "code",
   "execution_count": null,
   "id": "25d432f0-5cf1-4980-9798-40197c1826ef",
   "metadata": {},
   "outputs": [],
   "source": [
    "preproc.print_test_stats(y_test, y_pred4)"
   ]
  },
  {
   "cell_type": "code",
   "execution_count": null,
   "id": "2c29bc74-6e7c-43d3-b8f1-a667e920e3a7",
   "metadata": {},
   "outputs": [],
   "source": []
  }
 ],
 "metadata": {
  "kernelspec": {
   "display_name": "Python 3 (ipykernel)",
   "language": "python",
   "name": "python3"
  },
  "language_info": {
   "codemirror_mode": {
    "name": "ipython",
    "version": 3
   },
   "file_extension": ".py",
   "mimetype": "text/x-python",
   "name": "python",
   "nbconvert_exporter": "python",
   "pygments_lexer": "ipython3",
   "version": "3.12.4"
  }
 },
 "nbformat": 4,
 "nbformat_minor": 5
}
